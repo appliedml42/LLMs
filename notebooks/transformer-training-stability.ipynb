{
  "nbformat": 4,
  "nbformat_minor": 0,
  "metadata": {
    "colab": {
      "name": "Untitled0.ipynb",
      "provenance": [],
      "authorship_tag": "ABX9TyNf6AtUL4ztKpnD01Rs/74K",
      "include_colab_link": true
    },
    "kernelspec": {
      "name": "python3",
      "display_name": "Python 3"
    },
    "language_info": {
      "name": "python"
    }
  },
  "cells": [
    {
      "cell_type": "markdown",
      "metadata": {
        "id": "view-in-github",
        "colab_type": "text"
      },
      "source": [
        "<a href=\"https://colab.research.google.com/github/appliedml42/language-modeling/blob/main/notebooks/transformer-training-stability.ipynb\" target=\"_parent\"><img src=\"https://colab.research.google.com/assets/colab-badge.svg\" alt=\"Open In Colab\"/></a>"
      ]
    },
    {
      "cell_type": "code",
      "execution_count": 2,
      "metadata": {
        "id": "_V7kVCUXa8rA"
      },
      "outputs": [],
      "source": [
        "import torch\n",
        "from torch.nn import LayerNorm, Linear, Dropout\n",
        "from torch.nn.functional import binary_cross_entropy_with_logits"
      ]
    },
    {
      "cell_type": "code",
      "source": [
        ""
      ],
      "metadata": {
        "id": "bggFCzpRMS4o"
      },
      "execution_count": null,
      "outputs": []
    }
  ]
}